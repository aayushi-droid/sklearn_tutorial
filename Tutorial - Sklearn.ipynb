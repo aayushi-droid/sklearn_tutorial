{
 "cells": [
  {
   "cell_type": "markdown",
   "metadata": {},
   "source": [
    "# Scikit-learn\n",
    "(but really, just some points on some parts of your pipeline)"
   ]
  },
  {
   "cell_type": "markdown",
   "metadata": {},
   "source": [
    "Note: Parts of this tutorial are lifted verbatim from https://github.com/dssg/hitchhikers-guide/blob/master/curriculum/3_modeling_and_machine_learning/machine-learning/machine_learning_clean.ipynb"
   ]
  },
  {
   "cell_type": "markdown",
   "metadata": {},
   "source": [
    "## Plan\n",
    "1. our example dataset\n",
    "1. what type of ML we'll do\n",
    "1. generating labels\n",
    "1. generating features\n",
    "1. binding features to the labels\n",
    "1. handing your matrix to sklearn and fitting a model\n",
    "1. evaluating your model\n",
    "1. trying more models\n",
    "1. temporal cross-validation\n",
    "1. assortment of issues to keep in mind\n",
    "1. further reading\n",
    "\n",
    "## Glossary of Terms \n",
    "- **Learning**: In machine learning, you'll hear about \"learning a model.\" This is what you probably know as \n",
    "*fitting* or *estimating* a function, or *training* or *building* a model. These terms are all synonyms and are \n",
    "used interchangeably in the machine learning literature.\n",
    "- **Examples**: These are what you probably know as *data points* or *observations*. \n",
    "- **Features**: These are what you probably know as *independent variables*, *attributes*, *predictors*, \n",
    "or *explanatory variables.*\n",
    "- **Underfitting**: This happens when a model is too simple and does not capture the structure of the data well \n",
    "enough.\n",
    "- **Overfitting**: This happens when a model is too complex or too sensitive to the noise in the data; this can\n",
    "result in poor generalization performance, or applicability of the model to new data. \n",
    "- **Regularization**: This is a general method to avoid overfitting by applying additional constraints to the model. \n",
    "For example, you can limit the number of features present in the final model, or the weight coefficients applied\n",
    "to the (standardized) features are small.\n",
    "- **Supervised learning** involves problems with one target or outcome variable (continuous or discrete) that we want\n",
    "to predict, or classify data into. Classification, prediction, and regression fall into this category. We call the\n",
    "set of explanatory variables $X$ **features**, and the outcome variable of interest $Y$ the **label**.\n",
    "- **Unsupervised learning** involves problems that do not have a specific outcome variable of interest, but rather\n",
    "we are looking to understand \"natural\" patterns or groupings in the data - looking to uncover some structure that \n",
    "we do not know about a priori. Clustering is the most common example of unsupervised learning, another example is \n",
    "principal components analysis (PCA).\n"
   ]
  },
  {
   "cell_type": "markdown",
   "metadata": {},
   "source": [
    "## Setup"
   ]
  },
  {
   "cell_type": "code",
   "execution_count": 205,
   "metadata": {
    "collapsed": false
   },
   "outputs": [],
   "source": [
    "import pandas as pd\n",
    "import numpy as np\n",
    "import os\n",
    "import sklearn\n",
    "import seaborn as sns\n",
    "from sklearn.metrics import precision_recall_curve, auc\n",
    "from sklearn.metrics import accuracy_score, precision_score, recall_score\n",
    "from sklearn.ensemble import (RandomForestClassifier, ExtraTreesClassifier, GradientBoostingClassifier, \n",
    "AdaBoostClassifier)\n",
    "from sklearn.linear_model import LogisticRegression, SGDClassifier\n",
    "from sklearn.naive_bayes import GaussianNB\n",
    "from sklearn.tree import DecisionTreeClassifier\n",
    "from sqlalchemy import create_engine\n",
    "import matplotlib.pyplot as plt\n",
    "sns.set_style(\"white\")\n",
    "sns.set(font_scale=1.8)\n",
    "%matplotlib inline"
   ]
  },
  {
   "cell_type": "markdown",
   "metadata": {},
   "source": [
    "## Example Dataset\n",
    "\n",
    "We've fetched an open dataset from https://data.cityofchicago.org/Health-Human-Services/Food-Inspections, and restricted it to certain business types. It's saved in the `data/` folder.\n",
    "\n",
    "`food_2015_2016.csv` is the subset of all inspections that were targeted at restaurants, bakeries, and 'mobile food preparers' that happened in 2015 or 2016. `all_inspected.csv` lists all restaurants, bakeries, and mobile food preparers that have ever been inspected. \n",
    "\n",
    "(By the way! The exclamation point (`!`) sends the following command to your system shell. Can be super useful for stuff like `! wget google.com`)"
   ]
  },
  {
   "cell_type": "code",
   "execution_count": 206,
   "metadata": {
    "collapsed": false
   },
   "outputs": [
    {
     "name": "stdout",
     "output_type": "stream",
     "text": [
      "all_inspected.csv  food_2015_2016.csv\r\n"
     ]
    }
   ],
   "source": [
    "ls data/"
   ]
  },
  {
   "cell_type": "markdown",
   "metadata": {},
   "source": [
    "Let's quickly look at the inspections:"
   ]
  },
  {
   "cell_type": "code",
   "execution_count": 207,
   "metadata": {
    "collapsed": false
   },
   "outputs": [
    {
     "data": {
      "text/html": [
       "<div>\n",
       "<style>\n",
       "    .dataframe thead tr:only-child th {\n",
       "        text-align: right;\n",
       "    }\n",
       "\n",
       "    .dataframe thead th {\n",
       "        text-align: left;\n",
       "    }\n",
       "\n",
       "    .dataframe tbody tr th {\n",
       "        vertical-align: top;\n",
       "    }\n",
       "</style>\n",
       "<table border=\"1\" class=\"dataframe\">\n",
       "  <thead>\n",
       "    <tr style=\"text-align: right;\">\n",
       "      <th></th>\n",
       "      <th>inspection_id</th>\n",
       "      <th>dba_name</th>\n",
       "      <th>aka_name</th>\n",
       "      <th>license_#</th>\n",
       "      <th>facility_type</th>\n",
       "      <th>risk</th>\n",
       "      <th>address</th>\n",
       "      <th>city</th>\n",
       "      <th>state</th>\n",
       "      <th>zip</th>\n",
       "      <th>inspection_date</th>\n",
       "      <th>inspection_type</th>\n",
       "      <th>results</th>\n",
       "      <th>violations</th>\n",
       "      <th>latitude</th>\n",
       "      <th>longitude</th>\n",
       "      <th>location</th>\n",
       "    </tr>\n",
       "  </thead>\n",
       "  <tbody>\n",
       "    <tr>\n",
       "      <th>0</th>\n",
       "      <td>1758213</td>\n",
       "      <td>COUGAR FUEL</td>\n",
       "      <td>NaN</td>\n",
       "      <td>2464645</td>\n",
       "      <td>Restaurant</td>\n",
       "      <td>Risk 1 (High)</td>\n",
       "      <td>3800 W 103RD ST</td>\n",
       "      <td>CHICAGO</td>\n",
       "      <td>IL</td>\n",
       "      <td>60655.0</td>\n",
       "      <td>2016-05-13</td>\n",
       "      <td>License</td>\n",
       "      <td>Not Ready</td>\n",
       "      <td>NaN</td>\n",
       "      <td>41.706088</td>\n",
       "      <td>-87.716077</td>\n",
       "      <td>(41.706088266160116, -87.71607715391127)</td>\n",
       "    </tr>\n",
       "    <tr>\n",
       "      <th>1</th>\n",
       "      <td>1978676</td>\n",
       "      <td>WINDY CITY, INN</td>\n",
       "      <td>WINDY CITY INN</td>\n",
       "      <td>47870</td>\n",
       "      <td>Restaurant</td>\n",
       "      <td>Risk 2 (Medium)</td>\n",
       "      <td>2255-2257 W IRVING PARK RD</td>\n",
       "      <td>CHICAGO</td>\n",
       "      <td>IL</td>\n",
       "      <td>60618.0</td>\n",
       "      <td>2016-12-27</td>\n",
       "      <td>Canvass</td>\n",
       "      <td>Out of Business</td>\n",
       "      <td>NaN</td>\n",
       "      <td>41.953942</td>\n",
       "      <td>-87.685810</td>\n",
       "      <td>(41.95394237168946, -87.68581019750351)</td>\n",
       "    </tr>\n",
       "    <tr>\n",
       "      <th>2</th>\n",
       "      <td>1978516</td>\n",
       "      <td>STARBUCKS COFFEE #25092</td>\n",
       "      <td>STARBUCKS COFFEE #25092</td>\n",
       "      <td>2500982</td>\n",
       "      <td>Restaurant</td>\n",
       "      <td>Risk 2 (Medium)</td>\n",
       "      <td>875 N MICHIGAN AVE</td>\n",
       "      <td>CHICAGO</td>\n",
       "      <td>IL</td>\n",
       "      <td>60611.0</td>\n",
       "      <td>2016-12-21</td>\n",
       "      <td>License</td>\n",
       "      <td>No Entry</td>\n",
       "      <td>NaN</td>\n",
       "      <td>41.898949</td>\n",
       "      <td>-87.623975</td>\n",
       "      <td>(41.898948541729865, -87.62397498768968)</td>\n",
       "    </tr>\n",
       "    <tr>\n",
       "      <th>3</th>\n",
       "      <td>1978455</td>\n",
       "      <td>PING PONG</td>\n",
       "      <td>PING PONG</td>\n",
       "      <td>1765705</td>\n",
       "      <td>Restaurant</td>\n",
       "      <td>Risk 1 (High)</td>\n",
       "      <td>3322-3326 N BROADWAY</td>\n",
       "      <td>CHICAGO</td>\n",
       "      <td>IL</td>\n",
       "      <td>60657.0</td>\n",
       "      <td>2016-12-20</td>\n",
       "      <td>Suspected Food Poisoning</td>\n",
       "      <td>No Entry</td>\n",
       "      <td>NaN</td>\n",
       "      <td>41.942623</td>\n",
       "      <td>-87.644625</td>\n",
       "      <td>(41.94262315814179, -87.64462536460103)</td>\n",
       "    </tr>\n",
       "    <tr>\n",
       "      <th>4</th>\n",
       "      <td>1978498</td>\n",
       "      <td>JOY YEE NOODLE SHOP</td>\n",
       "      <td>JOY YEE NOODLE SHOP</td>\n",
       "      <td>2008459</td>\n",
       "      <td>Restaurant</td>\n",
       "      <td>Risk 1 (High)</td>\n",
       "      <td>2139 S CHINA PL</td>\n",
       "      <td>CHICAGO</td>\n",
       "      <td>IL</td>\n",
       "      <td>60616.0</td>\n",
       "      <td>2016-12-21</td>\n",
       "      <td>Short Form Complaint</td>\n",
       "      <td>Pass</td>\n",
       "      <td>NaN</td>\n",
       "      <td>41.853788</td>\n",
       "      <td>-87.634715</td>\n",
       "      <td>(41.85378847066135, -87.63471470519069)</td>\n",
       "    </tr>\n",
       "  </tbody>\n",
       "</table>\n",
       "</div>"
      ],
      "text/plain": [
       "   inspection_id                 dba_name                 aka_name  license_#  \\\n",
       "0        1758213              COUGAR FUEL                      NaN    2464645   \n",
       "1        1978676          WINDY CITY, INN           WINDY CITY INN      47870   \n",
       "2        1978516  STARBUCKS COFFEE #25092  STARBUCKS COFFEE #25092    2500982   \n",
       "3        1978455                PING PONG                PING PONG    1765705   \n",
       "4        1978498      JOY YEE NOODLE SHOP      JOY YEE NOODLE SHOP    2008459   \n",
       "\n",
       "  facility_type             risk                      address     city state  \\\n",
       "0    Restaurant    Risk 1 (High)             3800 W 103RD ST   CHICAGO    IL   \n",
       "1    Restaurant  Risk 2 (Medium)  2255-2257 W IRVING PARK RD   CHICAGO    IL   \n",
       "2    Restaurant  Risk 2 (Medium)          875 N MICHIGAN AVE   CHICAGO    IL   \n",
       "3    Restaurant    Risk 1 (High)        3322-3326 N BROADWAY   CHICAGO    IL   \n",
       "4    Restaurant    Risk 1 (High)             2139 S CHINA PL   CHICAGO    IL   \n",
       "\n",
       "       zip inspection_date           inspection_type          results  \\\n",
       "0  60655.0      2016-05-13                   License        Not Ready   \n",
       "1  60618.0      2016-12-27                   Canvass  Out of Business   \n",
       "2  60611.0      2016-12-21                   License         No Entry   \n",
       "3  60657.0      2016-12-20  Suspected Food Poisoning         No Entry   \n",
       "4  60616.0      2016-12-21      Short Form Complaint             Pass   \n",
       "\n",
       "  violations   latitude  longitude                                  location  \n",
       "0        NaN  41.706088 -87.716077  (41.706088266160116, -87.71607715391127)  \n",
       "1        NaN  41.953942 -87.685810   (41.95394237168946, -87.68581019750351)  \n",
       "2        NaN  41.898949 -87.623975  (41.898948541729865, -87.62397498768968)  \n",
       "3        NaN  41.942623 -87.644625   (41.94262315814179, -87.64462536460103)  \n",
       "4        NaN  41.853788 -87.634715   (41.85378847066135, -87.63471470519069)  "
      ]
     },
     "execution_count": 207,
     "metadata": {},
     "output_type": "execute_result"
    }
   ],
   "source": [
    "df = pd.read_csv(os.path.join('data','food_2015_2016.csv'), parse_dates=['inspection_date'])\n",
    "df.head()"
   ]
  },
  {
   "cell_type": "code",
   "execution_count": 208,
   "metadata": {
    "collapsed": false
   },
   "outputs": [
    {
     "data": {
      "text/plain": [
       "<matplotlib.axes._subplots.AxesSubplot at 0x7f9ce442f208>"
      ]
     },
     "execution_count": 208,
     "metadata": {},
     "output_type": "execute_result"
    },
    {
     "data": {
      "image/png": "[encoded data removed]",
      "text/plain": [
       "<matplotlib.figure.Figure at 0x7f9cdcdf11d0>"
      ]
     },
     "metadata": {},
     "output_type": "display_data"
    }
   ],
   "source": [
    "df.set_index('inspection_date')\\\n",
    "    .groupby(pd.TimeGrouper('1M'))\\\n",
    "    .inspection_id.count().plot(figsize=(12,6))"
   ]
  },
  {
   "cell_type": "markdown",
   "metadata": {},
   "source": [
    "Isn't `TimeGrouper` awesome? You can use it with other column names, too. (Note the "
   ]
  },
  {
   "cell_type": "code",
   "execution_count": 209,
   "metadata": {
    "collapsed": false
   },
   "outputs": [
    {
     "data": {
      "text/plain": [
       "<matplotlib.legend.Legend at 0x7f9cdcc2af28>"
      ]
     },
     "execution_count": 209,
     "metadata": {},
     "output_type": "execute_result"
    },
    {
     "data": {
      "image/png": "[encoded data removed]",
      "text/plain": [
       "<matplotlib.figure.Figure at 0x7f9cdcdf1c88>"
      ]
     },
     "metadata": {},
     "output_type": "display_data"
    }
   ],
   "source": [
    "df.set_index('inspection_date')\\\n",
    "    .groupby([pd.TimeGrouper('1M'),'results'])\\\n",
    "    .inspection_id.count().unstack().plot(figsize=(12,6))\n",
    "plt.legend(loc='upper right')"
   ]
  },
  {
   "cell_type": "code",
   "execution_count": 210,
   "metadata": {
    "collapsed": false
   },
   "outputs": [
    {
     "data": {
      "text/plain": [
       "Pass                    17845\n",
       "Fail                     5636\n",
       "Pass w/ Conditions       3813\n",
       "Out of Business          2186\n",
       "No Entry                 1683\n",
       "Not Ready                 387\n",
       "Business Not Located        5\n",
       "Name: results, dtype: int64"
      ]
     },
     "execution_count": 210,
     "metadata": {},
     "output_type": "execute_result"
    }
   ],
   "source": [
    "df.results.value_counts(dropna=False) # dropna=False also counts NaNs"
   ]
  },
  {
   "cell_type": "code",
   "execution_count": 211,
   "metadata": {
    "collapsed": false
   },
   "outputs": [
    {
     "data": {
      "text/plain": [
       "Pass                    0.565521\n",
       "Fail                    0.178609\n",
       "Pass w/ Conditions      0.120837\n",
       "Out of Business         0.069276\n",
       "No Entry                0.053335\n",
       "Not Ready               0.012264\n",
       "Business Not Located    0.000158\n",
       "Name: results, dtype: float64"
      ]
     },
     "execution_count": 211,
     "metadata": {},
     "output_type": "execute_result"
    }
   ],
   "source": [
    "df.results.value_counts(dropna=False, normalize=True)"
   ]
  },
  {
   "cell_type": "markdown",
   "metadata": {},
   "source": [
    "Quick look at the list of all places that were inspected, ever:"
   ]
  },
  {
   "cell_type": "code",
   "execution_count": 212,
   "metadata": {
    "collapsed": true
   },
   "outputs": [],
   "source": [
    "businesses = pd.read_csv(os.path.join('data','all_inspected.csv'))"
   ]
  },
  {
   "cell_type": "code",
   "execution_count": 213,
   "metadata": {
    "collapsed": false
   },
   "outputs": [
    {
     "data": {
      "text/html": [
       "<div>\n",
       "<style>\n",
       "    .dataframe thead tr:only-child th {\n",
       "        text-align: right;\n",
       "    }\n",
       "\n",
       "    .dataframe thead th {\n",
       "        text-align: left;\n",
       "    }\n",
       "\n",
       "    .dataframe tbody tr th {\n",
       "        vertical-align: top;\n",
       "    }\n",
       "</style>\n",
       "<table border=\"1\" class=\"dataframe\">\n",
       "  <thead>\n",
       "    <tr style=\"text-align: right;\">\n",
       "      <th></th>\n",
       "      <th>dba_name</th>\n",
       "      <th>license_#</th>\n",
       "      <th>facility_type</th>\n",
       "      <th>address</th>\n",
       "      <th>city</th>\n",
       "      <th>state</th>\n",
       "      <th>zip</th>\n",
       "    </tr>\n",
       "  </thead>\n",
       "  <tbody>\n",
       "    <tr>\n",
       "      <th>0</th>\n",
       "      <td>FOUR STAR LOUNGE</td>\n",
       "      <td>2368212</td>\n",
       "      <td>Restaurant</td>\n",
       "      <td>2666-2668 N HALSTED ST</td>\n",
       "      <td>CHICAGO</td>\n",
       "      <td>IL</td>\n",
       "      <td>60614.0</td>\n",
       "    </tr>\n",
       "    <tr>\n",
       "      <th>1</th>\n",
       "      <td>TAQUERIA VARGAS</td>\n",
       "      <td>2397411</td>\n",
       "      <td>Restaurant</td>\n",
       "      <td>7152 N CALIFORNIA AVE</td>\n",
       "      <td>CHICAGO</td>\n",
       "      <td>IL</td>\n",
       "      <td>60645.0</td>\n",
       "    </tr>\n",
       "    <tr>\n",
       "      <th>2</th>\n",
       "      <td>MEI SHUNG RESTAURANT</td>\n",
       "      <td>1579243</td>\n",
       "      <td>Restaurant</td>\n",
       "      <td>5511 N BROADWAY</td>\n",
       "      <td>CHICAGO</td>\n",
       "      <td>IL</td>\n",
       "      <td>60640.0</td>\n",
       "    </tr>\n",
       "    <tr>\n",
       "      <th>3</th>\n",
       "      <td>BROWN BAG SEAFOOD CO.</td>\n",
       "      <td>2517238</td>\n",
       "      <td>Restaurant</td>\n",
       "      <td>3400 N LINCOLN AVE</td>\n",
       "      <td>CHICAGO</td>\n",
       "      <td>IL</td>\n",
       "      <td>60657.0</td>\n",
       "    </tr>\n",
       "    <tr>\n",
       "      <th>4</th>\n",
       "      <td>BROWN BAG SEAFOOD CO.</td>\n",
       "      <td>2517237</td>\n",
       "      <td>Restaurant</td>\n",
       "      <td>3400 N LINCOLN AVE</td>\n",
       "      <td>CHICAGO</td>\n",
       "      <td>IL</td>\n",
       "      <td>60657.0</td>\n",
       "    </tr>\n",
       "  </tbody>\n",
       "</table>\n",
       "</div>"
      ],
      "text/plain": [
       "                dba_name  license_# facility_type                  address  \\\n",
       "0       FOUR STAR LOUNGE    2368212    Restaurant  2666-2668 N HALSTED ST    \n",
       "1        TAQUERIA VARGAS    2397411    Restaurant   7152 N CALIFORNIA AVE    \n",
       "2   MEI SHUNG RESTAURANT    1579243    Restaurant         5511 N BROADWAY    \n",
       "3  BROWN BAG SEAFOOD CO.    2517238    Restaurant      3400 N LINCOLN AVE    \n",
       "4  BROWN BAG SEAFOOD CO.    2517237    Restaurant      3400 N LINCOLN AVE    \n",
       "\n",
       "      city state      zip  \n",
       "0  CHICAGO    IL  60614.0  \n",
       "1  CHICAGO    IL  60645.0  \n",
       "2  CHICAGO    IL  60640.0  \n",
       "3  CHICAGO    IL  60657.0  \n",
       "4  CHICAGO    IL  60657.0  "
      ]
     },
     "execution_count": 213,
     "metadata": {},
     "output_type": "execute_result"
    }
   ],
   "source": [
    "businesses.head()"
   ]
  },
  {
   "cell_type": "markdown",
   "metadata": {},
   "source": [
    "There are a few NaNs in this dataframe:"
   ]
  },
  {
   "cell_type": "code",
   "execution_count": 214,
   "metadata": {
    "collapsed": false
   },
   "outputs": [
    {
     "data": {
      "text/plain": [
       "dba_name          0\n",
       "license_#         0\n",
       "facility_type     0\n",
       "address           0\n",
       "city             35\n",
       "state             1\n",
       "zip              26\n",
       "dtype: int64"
      ]
     },
     "execution_count": 214,
     "metadata": {},
     "output_type": "execute_result"
    }
   ],
   "source": [
    "businesses.isnull().sum()"
   ]
  },
  {
   "cell_type": "markdown",
   "metadata": {},
   "source": [
    "Today, let's ignore those rows:"
   ]
  },
  {
   "cell_type": "code",
   "execution_count": 215,
   "metadata": {
    "collapsed": false
   },
   "outputs": [],
   "source": [
    "businesses = businesses.dropna()"
   ]
  },
  {
   "cell_type": "markdown",
   "metadata": {},
   "source": [
    "## The Type of ML We'll Do\n",
    "\n",
    "Common tasks for Machine Learning algorithms are supervised learning (classification and regression) and unsupervised learning (like dimensionality reduction and clustering).\n",
    "\n",
    "Let's _predict_ which business is at risk of having a failed inspection. We'll define our negative outcome as having an inspection and failing it in the next 6 months. We'll define our positive outcome as not failing an inspection in the next 180 days. Note that the time window is somewhat arbitrary!\n",
    "\n",
    "Thus, we're doing _binary prediction_ here."
   ]
  },
  {
   "cell_type": "markdown",
   "metadata": {},
   "source": [
    "## Generating Labels\n",
    "\n",
    "Our labels should be binary (failed versus passed/passed with conditions). There should be one row for _every_ business (each business either failed or passed or wasn't inspected).\n",
    "\n",
    "Each binary label has a **date** attached to it - after all, our definition uses 'in the next 180 days'.\n",
    "\n",
    "**Question**: What happens if a business has more than one inspection, potentially with contradictory outcomes?"
   ]
  },
  {
   "cell_type": "markdown",
   "metadata": {},
   "source": [
    "### Exercise 1 (2 Minutes)\n",
    "We want to make predictions per brick-and-mortar store. Check the dataframe - is there a unique identifier that helps us do that? If not, how do we identify each business? (Any problems with your solution? Anything you'd want to know from the City of Chicago?)"
   ]
  },
  {
   "cell_type": "markdown",
   "metadata": {},
   "source": [
    "### Exercise 2 (10 Minutes)\n",
    "Implement the below function. There's a test to check if you got it right in the cell below."
   ]
  },
  {
   "cell_type": "code",
   "execution_count": 216,
   "metadata": {
    "collapsed": false
   },
   "outputs": [
    {
     "data": {
      "text/plain": [
       "pandas._libs.tslib.Timestamp"
      ]
     },
     "execution_count": 216,
     "metadata": {},
     "output_type": "execute_result"
    }
   ],
   "source": [
    "type(pd.to_datetime('2015-01-01'))"
   ]
  },
  {
   "cell_type": "code",
   "execution_count": 217,
   "metadata": {
    "collapsed": true
   },
   "outputs": [],
   "source": [
    "def generate_labels(all_businesses, inspections_df, date, label_timedelta):\n",
    "    '''\n",
    "    Generate binary labels for each business that we know of.\n",
    "    \n",
    "    Parameters\n",
    "    ----------\n",
    "    all_businesses: pd.DataFrame\n",
    "        The dataframe as read from all_inspected.csv, with nan-rows dropped\n",
    "    inspections_df: pd.DataFrame\n",
    "        The dataframe as read from food_2015_2016.csv\n",
    "    date: Timestamp\n",
    "        A Timestamp like pd.to_datetime('2015-06-01'), giving the date from which on we consider inspections\n",
    "    label_timedelta: pd.Timedelta\n",
    "        An Timedelta (like 180 days), giving the time interval for which we will consider labels\n",
    "    \n",
    "    Returns\n",
    "    -------\n",
    "    df_labels: pd.DataFrame\n",
    "        A dataframe with the following index: dba_name, address, city, state, zip, date;\n",
    "        and only one column: label.\n",
    "        The dataframe should be unique in (dba_name, address, city, state, zip, date).\n",
    "        The column `label` should be boolean. It should be True iff the business, as identified\n",
    "        by the 6 columns above, had one or more failed inspections, \n",
    "        where only those inspections are considered for which\n",
    "        date <= inspection_date < (date + label_period).\n",
    "        The dataframe should be sorted by its (multi-) index.\n",
    "    '''\n",
    "    \n",
    "    # TODO\n",
    "    pass\n",
    "\n",
    "    # some helpful things: \n",
    "    # pd.to_datetime('2015-01-01') - convert string to Timestamp\n",
    "    # df.drop_duplicates() - removes duplicate rows from df\n",
    "    # pd.Timedelta('180D') - create a Timedelta that you can add to a timestamp\n",
    "    # df.groupby(['column1','column2']).column3.sum() # like SQL: \n",
    "    #    select column1, column2, sum(column3) from df group by column1, column2;\n",
    "    # df.someColumn.astype(bool) - coerce a column to boolean\n",
    "    # pd.to_datetime('2015-01-01') - create a timestamp from a string\n",
    "    # df.sort_index() - return the dataframe, sorted by its index"
   ]
  },
  {
   "cell_type": "code",
   "execution_count": 218,
   "metadata": {
    "collapsed": true
   },
   "outputs": [],
   "source": [
    "our_date = pd.to_datetime('2016-01-01') # remember this!"
   ]
  },
  {
   "cell_type": "markdown",
   "metadata": {},
   "source": [
    "To try if you got it, run this. If it doesn't throw an error, you're good!"
   ]
  },
  {
   "cell_type": "code",
   "execution_count": 225,
   "metadata": {
    "collapsed": false
   },
   "outputs": [
    {
     "name": "stdout",
     "output_type": "stream",
     "text": [
      "First used inspection on 2016-01-04 00:00:00\n",
      "Last used inspection on 2016-06-28 00:00:00\n"
     ]
    }
   ],
   "source": [
    "labels = generate_labels(businesses, df, our_date, pd.Timedelta('180D'))\n",
    "np.testing.assert_array_equal(labels.reset_index(),\n",
    "                              pd.read_csv(os.path.join('tests','labels.csv'), parse_dates=['date']))"
   ]
  },
  {
   "cell_type": "markdown",
   "metadata": {},
   "source": [
    "#### Let's have a look!"
   ]
  },
  {
   "cell_type": "code",
   "execution_count": 226,
   "metadata": {
    "collapsed": false
   },
   "outputs": [
    {
     "data": {
      "text/html": [
       "<div>\n",
       "<style>\n",
       "    .dataframe thead tr:only-child th {\n",
       "        text-align: right;\n",
       "    }\n",
       "\n",
       "    .dataframe thead th {\n",
       "        text-align: left;\n",
       "    }\n",
       "\n",
       "    .dataframe tbody tr th {\n",
       "        vertical-align: top;\n",
       "    }\n",
       "</style>\n",
       "<table border=\"1\" class=\"dataframe\">\n",
       "  <thead>\n",
       "    <tr style=\"text-align: right;\">\n",
       "      <th></th>\n",
       "      <th></th>\n",
       "      <th></th>\n",
       "      <th></th>\n",
       "      <th></th>\n",
       "      <th></th>\n",
       "      <th></th>\n",
       "      <th></th>\n",
       "      <th>label</th>\n",
       "    </tr>\n",
       "    <tr>\n",
       "      <th>dba_name</th>\n",
       "      <th>address</th>\n",
       "      <th>license_#</th>\n",
       "      <th>facility_type</th>\n",
       "      <th>city</th>\n",
       "      <th>state</th>\n",
       "      <th>zip</th>\n",
       "      <th>date</th>\n",
       "      <th></th>\n",
       "    </tr>\n",
       "  </thead>\n",
       "  <tbody>\n",
       "    <tr>\n",
       "      <th>#1 CHINA EXPRESS, LTD.</th>\n",
       "      <th>4248 S WENTWORTH AVE</th>\n",
       "      <th>1869616</th>\n",
       "      <th>Restaurant</th>\n",
       "      <th>CHICAGO</th>\n",
       "      <th>IL</th>\n",
       "      <th>60609.0</th>\n",
       "      <th>2016-01-01</th>\n",
       "      <td>False</td>\n",
       "    </tr>\n",
       "    <tr>\n",
       "      <th rowspan=\"2\" valign=\"top\">#1 CHOP SUEY</th>\n",
       "      <th>1907 W 87TH ST</th>\n",
       "      <th>2042372</th>\n",
       "      <th>Restaurant</th>\n",
       "      <th>CHICAGO</th>\n",
       "      <th>IL</th>\n",
       "      <th>60620.0</th>\n",
       "      <th>2016-01-01</th>\n",
       "      <td>False</td>\n",
       "    </tr>\n",
       "    <tr>\n",
       "      <th>4307 W IRVING PARK RD</th>\n",
       "      <th>1970042</th>\n",
       "      <th>Restaurant</th>\n",
       "      <th>CHICAGO</th>\n",
       "      <th>IL</th>\n",
       "      <th>60641.0</th>\n",
       "      <th>2016-01-01</th>\n",
       "      <td>False</td>\n",
       "    </tr>\n",
       "    <tr>\n",
       "      <th>#1 CHOP SUEY RESTAURANT</th>\n",
       "      <th>4307 W IRVING PARK RD</th>\n",
       "      <th>1739799</th>\n",
       "      <th>Restaurant</th>\n",
       "      <th>CHICAGO</th>\n",
       "      <th>IL</th>\n",
       "      <th>60641.0</th>\n",
       "      <th>2016-01-01</th>\n",
       "      <td>False</td>\n",
       "    </tr>\n",
       "    <tr>\n",
       "      <th>#1 WOK N ROLL</th>\n",
       "      <th>1408 E 53RD ST</th>\n",
       "      <th>58961</th>\n",
       "      <th>Restaurant</th>\n",
       "      <th>CHICAGO</th>\n",
       "      <th>IL</th>\n",
       "      <th>60615.0</th>\n",
       "      <th>2016-01-01</th>\n",
       "      <td>False</td>\n",
       "    </tr>\n",
       "  </tbody>\n",
       "</table>\n",
       "</div>"
      ],
      "text/plain": [
       "                                                                                                         label\n",
       "dba_name                address                license_# facility_type city    state zip     date             \n",
       "#1 CHINA EXPRESS, LTD.  4248 S WENTWORTH AVE   1869616   Restaurant    CHICAGO IL    60609.0 2016-01-01  False\n",
       "#1 CHOP SUEY            1907 W 87TH ST         2042372   Restaurant    CHICAGO IL    60620.0 2016-01-01  False\n",
       "                        4307 W IRVING PARK RD  1970042   Restaurant    CHICAGO IL    60641.0 2016-01-01  False\n",
       "#1 CHOP SUEY RESTAURANT 4307 W IRVING PARK RD  1739799   Restaurant    CHICAGO IL    60641.0 2016-01-01  False\n",
       "#1 WOK N ROLL           1408 E 53RD ST         58961     Restaurant    CHICAGO IL    60615.0 2016-01-01  False"
      ]
     },
     "execution_count": 226,
     "metadata": {},
     "output_type": "execute_result"
    }
   ],
   "source": [
    "labels.head()"
   ]
  },
  {
   "cell_type": "markdown",
   "metadata": {},
   "source": [
    "Check out that sweet multi-index."
   ]
  },
  {
   "cell_type": "code",
   "execution_count": 227,
   "metadata": {
    "collapsed": false
   },
   "outputs": [
    {
     "data": {
      "text/plain": [
       "(17681, 1)"
      ]
     },
     "execution_count": 227,
     "metadata": {},
     "output_type": "execute_result"
    }
   ],
   "source": [
    "labels.shape"
   ]
  },
  {
   "cell_type": "code",
   "execution_count": 228,
   "metadata": {
    "collapsed": false
   },
   "outputs": [
    {
     "data": {
      "text/plain": [
       "(17681, 9)"
      ]
     },
     "execution_count": 228,
     "metadata": {},
     "output_type": "execute_result"
    }
   ],
   "source": [
    "labels.reset_index().drop_duplicates().shape"
   ]
  },
  {
   "cell_type": "code",
   "execution_count": 229,
   "metadata": {
    "collapsed": false
   },
   "outputs": [
    {
     "data": {
      "text/plain": [
       "label    0.080029\n",
       "dtype: float64"
      ]
     },
     "execution_count": 229,
     "metadata": {},
     "output_type": "execute_result"
    }
   ],
   "source": [
    "labels.mean()"
   ]
  },
  {
   "cell_type": "markdown",
   "metadata": {},
   "source": [
    "## Generating Features\n",
    "Now that we have properly identified labels, we still need features.\n",
    "We'll use really simple features for now, but we'll pay attention to time.\n",
    "\n",
    "Let's use only 3 features for now:\n",
    "- the number of inspections in the last 365 days that are 'Pass', 'Fail', or 'Pass w/ Conditions'\n",
    "- the number of inspections in the 365 days that are 'Fail'\n",
    "- the facility_type\n",
    "\n",
    "Our labels were indexed by `('dba_name','address','license_#','facility_type','city','state', 'zip', 'date')`.\n",
    "Thus, our features need to be indexed by the same columns!\n",
    "\n",
    "Our goal is to have a dataframe, unique in the above indexes, with three columns: `facility_type`, `num_pass_inspections_365days`, and `num_fail_inspections_365days`.\n",
    "\n",
    "For the labels, we only looked at inspections that happened **after** (or on) the `date`.\n",
    "Now, we'll only look at information that occured **before** the `date`!"
   ]
  },
  {
   "cell_type": "markdown",
   "metadata": {},
   "source": [
    "### Exercise 3 (10 Minutes)\n",
    "Implement the function below. There's a test in the next cell to check if you got it right."
   ]
  },
  {
   "cell_type": "code",
   "execution_count": 230,
   "metadata": {
    "collapsed": true
   },
   "outputs": [],
   "source": [
    "def feature_inspections(inspections_df, date, aggregation_timedelta, results_list=['Fail']):\n",
    "    '''\n",
    "    Generate counts of previous inspections.\n",
    "    \n",
    "    Parameters\n",
    "    ----------\n",
    "    inspections_df: pd.DataFrame\n",
    "        The dataframe as read from food_2015_2016.csv\n",
    "    date: pd.Timestamp\n",
    "        A Timestamp like pd.to_datetime('2015-06-01'), giving the date up until which on we consider inspections\n",
    "    aggregation_timedelta: pd.Timedelta\n",
    "        A Timedelta, like 180 days, giving the time _before_ date for which we consider inspections\n",
    "    results_list: [str]\n",
    "        A list of strings. We only count inspections with results listed in this argument\n",
    "        \n",
    "    Returns\n",
    "    -------\n",
    "    df_feature: pd.DataFrame\n",
    "        A dataframe with the following index: dba_name, address, city, state, zip, date;\n",
    "        and only one column: num_{results_list}_inspections_{aggregations_period}days; \n",
    "        for example, num_fail_inspections_365days.\n",
    "        The dataframe should be unique in (dba_name, address, city, state, zip, date).\n",
    "        The feature column should be an int, counting the number of times the given business\n",
    "        had an inspection with an outcome as listed in results_list, but only considering\n",
    "        information for which\n",
    "        (date - aggregation_period) <= inspection_date < date.\n",
    "        The dataframe should be sorted by its (multi-) index. (By the way, we only sort because \n",
    "        that makes comparisons in this tutorial easier. Don't bother doing this in real life.)\n",
    "    '''\n",
    "    \n",
    "    # TODO\n",
    "    pass\n",
    "    "
   ]
  },
  {
   "cell_type": "code",
   "execution_count": 232,
   "metadata": {
    "collapsed": false
   },
   "outputs": [
    {
     "name": "stdout",
     "output_type": "stream",
     "text": [
      "Earliest inspection used:  2015-01-02 00:00:00\n",
      "Latest inspection used:  2015-12-31 00:00:00\n",
      "Results counts:\n",
      "Pass                  8495\n",
      "Fail                  2564\n",
      "Pass w/ Conditions    1682\n"
     ]
    }
   ],
   "source": [
    "feat1 = feature_inspections(df, our_date, pd.Timedelta('365D'), results_list=['Pass', 'Fail','Pass w/ Conditions'])\n",
    "np.testing.assert_array_equal(feat1.reset_index(),\n",
    "                              pd.read_csv(os.path.join('tests','feature1.csv'), parse_dates=['date']))"
   ]
  },
  {
   "cell_type": "markdown",
   "metadata": {},
   "source": [
    "### Quickly do the second feature, that's easy now:"
   ]
  },
  {
   "cell_type": "code",
   "execution_count": 233,
   "metadata": {
    "collapsed": false
   },
   "outputs": [
    {
     "name": "stdout",
     "output_type": "stream",
     "text": [
      "Earliest inspection used:  2015-01-02 00:00:00\n",
      "Latest inspection used:  2015-12-31 00:00:00\n",
      "Results counts:\n",
      "Fail    2564\n"
     ]
    }
   ],
   "source": [
    "feat2 = feature_inspections(df, our_date, pd.Timedelta('365D'), results_list=['Fail'])"
   ]
  },
  {
   "cell_type": "markdown",
   "metadata": {},
   "source": [
    "#### Let's look at it (... or maybe better not?)"
   ]
  },
  {
   "cell_type": "code",
   "execution_count": 234,
   "metadata": {
    "collapsed": false
   },
   "outputs": [
    {
     "data": {
      "text/html": [
       "<div>\n",
       "<style>\n",
       "    .dataframe thead tr:only-child th {\n",
       "        text-align: right;\n",
       "    }\n",
       "\n",
       "    .dataframe thead th {\n",
       "        text-align: left;\n",
       "    }\n",
       "\n",
       "    .dataframe tbody tr th {\n",
       "        vertical-align: top;\n",
       "    }\n",
       "</style>\n",
       "<table border=\"1\" class=\"dataframe\">\n",
       "  <thead>\n",
       "    <tr style=\"text-align: right;\">\n",
       "      <th></th>\n",
       "      <th></th>\n",
       "      <th></th>\n",
       "      <th></th>\n",
       "      <th></th>\n",
       "      <th></th>\n",
       "      <th></th>\n",
       "      <th></th>\n",
       "      <th>num_Fail_inspections_365days</th>\n",
       "    </tr>\n",
       "    <tr>\n",
       "      <th>dba_name</th>\n",
       "      <th>address</th>\n",
       "      <th>license_#</th>\n",
       "      <th>facility_type</th>\n",
       "      <th>city</th>\n",
       "      <th>state</th>\n",
       "      <th>zip</th>\n",
       "      <th>date</th>\n",
       "      <th></th>\n",
       "    </tr>\n",
       "  </thead>\n",
       "  <tbody>\n",
       "    <tr>\n",
       "      <th>JIMMY G'S</th>\n",
       "      <th>307 S KEDZIE AVE</th>\n",
       "      <th>9154</th>\n",
       "      <th>Restaurant</th>\n",
       "      <th>CHICAGO</th>\n",
       "      <th>IL</th>\n",
       "      <th>60612.0</th>\n",
       "      <th>2016-01-01</th>\n",
       "      <td>9</td>\n",
       "    </tr>\n",
       "    <tr>\n",
       "      <th>MAXIM'S RESTAURANT INC</th>\n",
       "      <th>20 N CLARK ST</th>\n",
       "      <th>644</th>\n",
       "      <th>Restaurant</th>\n",
       "      <th>CHICAGO</th>\n",
       "      <th>IL</th>\n",
       "      <th>60602.0</th>\n",
       "      <th>2016-01-01</th>\n",
       "      <td>7</td>\n",
       "    </tr>\n",
       "    <tr>\n",
       "      <th>LEONA'S RESTAURANT</th>\n",
       "      <th>3877 N ELSTON AVE</th>\n",
       "      <th>2313672</th>\n",
       "      <th>Restaurant</th>\n",
       "      <th>CHICAGO</th>\n",
       "      <th>IL</th>\n",
       "      <th>60618.0</th>\n",
       "      <th>2016-01-01</th>\n",
       "      <td>5</td>\n",
       "    </tr>\n",
       "    <tr>\n",
       "      <th>MC DONALDS</th>\n",
       "      <th>7900 S DR MARTIN LUTHER KING JR DR</th>\n",
       "      <th>1517920</th>\n",
       "      <th>Restaurant</th>\n",
       "      <th>CHICAGO</th>\n",
       "      <th>IL</th>\n",
       "      <th>60619.0</th>\n",
       "      <th>2016-01-01</th>\n",
       "      <td>4</td>\n",
       "    </tr>\n",
       "    <tr>\n",
       "      <th>HAMBURGER MARY'S CHICAGO/MARY'S REC ROOM</th>\n",
       "      <th>5400-5402 N CLARK ST</th>\n",
       "      <th>1933748</th>\n",
       "      <th>Restaurant</th>\n",
       "      <th>CHICAGO</th>\n",
       "      <th>IL</th>\n",
       "      <th>60640.0</th>\n",
       "      <th>2016-01-01</th>\n",
       "      <td>4</td>\n",
       "    </tr>\n",
       "  </tbody>\n",
       "</table>\n",
       "</div>"
      ],
      "text/plain": [
       "                                                                                                                                       num_Fail_inspections_365days\n",
       "dba_name                                 address                             license_# facility_type city    state zip     date                                    \n",
       "JIMMY G'S                                307 S KEDZIE AVE                    9154      Restaurant    CHICAGO IL    60612.0 2016-01-01                             9\n",
       "MAXIM'S RESTAURANT INC                   20 N CLARK ST                       644       Restaurant    CHICAGO IL    60602.0 2016-01-01                             7\n",
       "LEONA'S RESTAURANT                       3877 N ELSTON AVE                   2313672   Restaurant    CHICAGO IL    60618.0 2016-01-01                             5\n",
       "MC DONALDS                               7900 S DR MARTIN LUTHER KING JR DR  1517920   Restaurant    CHICAGO IL    60619.0 2016-01-01                             4\n",
       "HAMBURGER MARY'S CHICAGO/MARY'S REC ROOM 5400-5402 N CLARK ST                1933748   Restaurant    CHICAGO IL    60640.0 2016-01-01                             4"
      ]
     },
     "execution_count": 234,
     "metadata": {},
     "output_type": "execute_result"
    }
   ],
   "source": [
    "feat2.sort_values(by=feat2.columns[0], ascending=False).head(5)"
   ]
  },
  {
   "cell_type": "markdown",
   "metadata": {},
   "source": [
    "https://s3-media3.fl.yelpcdn.com/bphoto/TPxDdUW4erudONCH076rEg/o.jpg"
   ]
  },
  {
   "cell_type": "markdown",
   "metadata": {},
   "source": [
    "## Quick! The third feature!\n",
    "Ok, let's just assume that facility_type is static. Then it's easy!"
   ]
  },
  {
   "cell_type": "code",
   "execution_count": 235,
   "metadata": {
    "collapsed": false
   },
   "outputs": [],
   "source": [
    "def feature_facility_type(all_inspected, date):\n",
    "    feat = all_inspected.copy()\n",
    "\n",
    "    # this is a little hacky, but will be useful when combining the different features\n",
    "    feat['date'] = date # needs to be datetime like in the other dataframes!\n",
    "\n",
    "    feat = feat.set_index(['dba_name','address','license_#','facility_type','city','state','zip', 'date'])\n",
    "    feat['facility_type'] = all_inspected.facility_type.values # <--- the .values is VERY IMPORTANT (cause Pandas)\n",
    "    \n",
    "    return feat"
   ]
  },
  {
   "cell_type": "code",
   "execution_count": 236,
   "metadata": {
    "collapsed": false
   },
   "outputs": [],
   "source": [
    "feat3 = feature_facility_type(businesses, our_date)"
   ]
  },
  {
   "cell_type": "markdown",
   "metadata": {},
   "source": [
    "Hmm, we should really figure out if license numbers simply change when you renew them, or only if owners change...\n",
    "We're assuming that owners change, but that's probably not true? Anybody?"
   ]
  },
  {
   "cell_type": "code",
   "execution_count": 237,
   "metadata": {
    "collapsed": false
   },
   "outputs": [
    {
     "data": {
      "text/plain": [
       "Restaurant              17150\n",
       "Bakery                    424\n",
       "Mobile Food Preparer      107\n",
       "Name: facility_type, dtype: int64"
      ]
     },
     "execution_count": 237,
     "metadata": {},
     "output_type": "execute_result"
    }
   ],
   "source": [
    "feat3.facility_type.value_counts(dropna=False)"
   ]
  },
  {
   "cell_type": "markdown",
   "metadata": {},
   "source": [
    "## Binding Features to the Labels (aka Enter The Matrix)\n",
    "We have labels from a time window **after** `our_date`, and features that are either static or from a time window **before** `our_date`. Let's put it all in one dataframe!\n",
    "\n",
    "Now, it'll come in handy that a) all the dataframes have the same indices, b) even the static feature has a `date` index."
   ]
  },
  {
   "cell_type": "code",
   "execution_count": 238,
   "metadata": {
    "collapsed": false
   },
   "outputs": [],
   "source": [
    "m = labels\n",
    "for f in [feat1, feat2, feat3]:\n",
    "    m = m.merge(f, how='left', left_index=True, right_index=True)"
   ]
  },
  {
   "cell_type": "code",
   "execution_count": 239,
   "metadata": {
    "collapsed": false
   },
   "outputs": [
    {
     "data": {
      "text/html": [
       "<div>\n",
       "<style>\n",
       "    .dataframe thead tr:only-child th {\n",
       "        text-align: right;\n",
       "    }\n",
       "\n",
       "    .dataframe thead th {\n",
       "        text-align: left;\n",
       "    }\n",
       "\n",
       "    .dataframe tbody tr th {\n",
       "        vertical-align: top;\n",
       "    }\n",
       "</style>\n",
       "<table border=\"1\" class=\"dataframe\">\n",
       "  <thead>\n",
       "    <tr style=\"text-align: right;\">\n",
       "      <th></th>\n",
       "      <th></th>\n",
       "      <th></th>\n",
       "      <th></th>\n",
       "      <th></th>\n",
       "      <th></th>\n",
       "      <th></th>\n",
       "      <th></th>\n",
       "      <th>label</th>\n",
       "      <th>num_Pass_Fail_Pass w/ Conditions_inspections_365days</th>\n",
       "      <th>num_Fail_inspections_365days</th>\n",
       "      <th>facility_type</th>\n",
       "    </tr>\n",
       "    <tr>\n",
       "      <th>dba_name</th>\n",
       "      <th>address</th>\n",
       "      <th>license_#</th>\n",
       "      <th>facility_type</th>\n",
       "      <th>city</th>\n",
       "      <th>state</th>\n",
       "      <th>zip</th>\n",
       "      <th>date</th>\n",
       "      <th></th>\n",
       "      <th></th>\n",
       "      <th></th>\n",
       "      <th></th>\n",
       "    </tr>\n",
       "  </thead>\n",
       "  <tbody>\n",
       "    <tr>\n",
       "      <th>#1 CHINA EXPRESS, LTD.</th>\n",
       "      <th>4248 S WENTWORTH AVE</th>\n",
       "      <th>1869616</th>\n",
       "      <th>Restaurant</th>\n",
       "      <th>CHICAGO</th>\n",
       "      <th>IL</th>\n",
       "      <th>60609.0</th>\n",
       "      <th>2016-01-01</th>\n",
       "      <td>False</td>\n",
       "      <td>NaN</td>\n",
       "      <td>NaN</td>\n",
       "      <td>Restaurant</td>\n",
       "    </tr>\n",
       "    <tr>\n",
       "      <th rowspan=\"2\" valign=\"top\">#1 CHOP SUEY</th>\n",
       "      <th>1907 W 87TH ST</th>\n",
       "      <th>2042372</th>\n",
       "      <th>Restaurant</th>\n",
       "      <th>CHICAGO</th>\n",
       "      <th>IL</th>\n",
       "      <th>60620.0</th>\n",
       "      <th>2016-01-01</th>\n",
       "      <td>False</td>\n",
       "      <td>1.0</td>\n",
       "      <td>NaN</td>\n",
       "      <td>Restaurant</td>\n",
       "    </tr>\n",
       "    <tr>\n",
       "      <th>4307 W IRVING PARK RD</th>\n",
       "      <th>1970042</th>\n",
       "      <th>Restaurant</th>\n",
       "      <th>CHICAGO</th>\n",
       "      <th>IL</th>\n",
       "      <th>60641.0</th>\n",
       "      <th>2016-01-01</th>\n",
       "      <td>False</td>\n",
       "      <td>4.0</td>\n",
       "      <td>2.0</td>\n",
       "      <td>Restaurant</td>\n",
       "    </tr>\n",
       "    <tr>\n",
       "      <th>#1 CHOP SUEY RESTAURANT</th>\n",
       "      <th>4307 W IRVING PARK RD</th>\n",
       "      <th>1739799</th>\n",
       "      <th>Restaurant</th>\n",
       "      <th>CHICAGO</th>\n",
       "      <th>IL</th>\n",
       "      <th>60641.0</th>\n",
       "      <th>2016-01-01</th>\n",
       "      <td>False</td>\n",
       "      <td>NaN</td>\n",
       "      <td>NaN</td>\n",
       "      <td>Restaurant</td>\n",
       "    </tr>\n",
       "    <tr>\n",
       "      <th>#1 WOK N ROLL</th>\n",
       "      <th>1408 E 53RD ST</th>\n",
       "      <th>58961</th>\n",
       "      <th>Restaurant</th>\n",
       "      <th>CHICAGO</th>\n",
       "      <th>IL</th>\n",
       "      <th>60615.0</th>\n",
       "      <th>2016-01-01</th>\n",
       "      <td>False</td>\n",
       "      <td>NaN</td>\n",
       "      <td>NaN</td>\n",
       "      <td>Restaurant</td>\n",
       "    </tr>\n",
       "  </tbody>\n",
       "</table>\n",
       "</div>"
      ],
      "text/plain": [
       "                                                                                                         label  \\\n",
       "dba_name                address                license_# facility_type city    state zip     date                \n",
       "#1 CHINA EXPRESS, LTD.  4248 S WENTWORTH AVE   1869616   Restaurant    CHICAGO IL    60609.0 2016-01-01  False   \n",
       "#1 CHOP SUEY            1907 W 87TH ST         2042372   Restaurant    CHICAGO IL    60620.0 2016-01-01  False   \n",
       "                        4307 W IRVING PARK RD  1970042   Restaurant    CHICAGO IL    60641.0 2016-01-01  False   \n",
       "#1 CHOP SUEY RESTAURANT 4307 W IRVING PARK RD  1739799   Restaurant    CHICAGO IL    60641.0 2016-01-01  False   \n",
       "#1 WOK N ROLL           1408 E 53RD ST         58961     Restaurant    CHICAGO IL    60615.0 2016-01-01  False   \n",
       "\n",
       "                                                                                                         num_Pass_Fail_Pass w/ Conditions_inspections_365days  \\\n",
       "dba_name                address                license_# facility_type city    state zip     date                                                               \n",
       "#1 CHINA EXPRESS, LTD.  4248 S WENTWORTH AVE   1869616   Restaurant    CHICAGO IL    60609.0 2016-01-01                                                NaN      \n",
       "#1 CHOP SUEY            1907 W 87TH ST         2042372   Restaurant    CHICAGO IL    60620.0 2016-01-01                                                1.0      \n",
       "                        4307 W IRVING PARK RD  1970042   Restaurant    CHICAGO IL    60641.0 2016-01-01                                                4.0      \n",
       "#1 CHOP SUEY RESTAURANT 4307 W IRVING PARK RD  1739799   Restaurant    CHICAGO IL    60641.0 2016-01-01                                                NaN      \n",
       "#1 WOK N ROLL           1408 E 53RD ST         58961     Restaurant    CHICAGO IL    60615.0 2016-01-01                                                NaN      \n",
       "\n",
       "                                                                                                         num_Fail_inspections_365days  \\\n",
       "dba_name                address                license_# facility_type city    state zip     date                                       \n",
       "#1 CHINA EXPRESS, LTD.  4248 S WENTWORTH AVE   1869616   Restaurant    CHICAGO IL    60609.0 2016-01-01                           NaN   \n",
       "#1 CHOP SUEY            1907 W 87TH ST         2042372   Restaurant    CHICAGO IL    60620.0 2016-01-01                           NaN   \n",
       "                        4307 W IRVING PARK RD  1970042   Restaurant    CHICAGO IL    60641.0 2016-01-01                           2.0   \n",
       "#1 CHOP SUEY RESTAURANT 4307 W IRVING PARK RD  1739799   Restaurant    CHICAGO IL    60641.0 2016-01-01                           NaN   \n",
       "#1 WOK N ROLL           1408 E 53RD ST         58961     Restaurant    CHICAGO IL    60615.0 2016-01-01                           NaN   \n",
       "\n",
       "                                                                                                        facility_type  \n",
       "dba_name                address                license_# facility_type city    state zip     date                      \n",
       "#1 CHINA EXPRESS, LTD.  4248 S WENTWORTH AVE   1869616   Restaurant    CHICAGO IL    60609.0 2016-01-01    Restaurant  \n",
       "#1 CHOP SUEY            1907 W 87TH ST         2042372   Restaurant    CHICAGO IL    60620.0 2016-01-01    Restaurant  \n",
       "                        4307 W IRVING PARK RD  1970042   Restaurant    CHICAGO IL    60641.0 2016-01-01    Restaurant  \n",
       "#1 CHOP SUEY RESTAURANT 4307 W IRVING PARK RD  1739799   Restaurant    CHICAGO IL    60641.0 2016-01-01    Restaurant  \n",
       "#1 WOK N ROLL           1408 E 53RD ST         58961     Restaurant    CHICAGO IL    60615.0 2016-01-01    Restaurant  "
      ]
     },
     "execution_count": 239,
     "metadata": {},
     "output_type": "execute_result"
    }
   ],
   "source": [
    "# tada!\n",
    "m.head()"
   ]
  },
  {
   "cell_type": "markdown",
   "metadata": {},
   "source": [
    "... but what's with all the NaNs? In facility_type, that means it's missing. For the inspection counts, those are 'empty' aggregations, so they should be 0!"
   ]
  },
  {
   "cell_type": "code",
   "execution_count": 240,
   "metadata": {
    "collapsed": true
   },
   "outputs": [],
   "source": [
    "m['facility_type'] = m.facility_type.fillna('missing') # just call it 'missing', literally"
   ]
  },
  {
   "cell_type": "code",
   "execution_count": 241,
   "metadata": {
    "collapsed": true
   },
   "outputs": [],
   "source": [
    "m = m.fillna(0) # those are counts, so NaN means 0"
   ]
  },
  {
   "cell_type": "code",
   "execution_count": 242,
   "metadata": {
    "collapsed": false
   },
   "outputs": [
    {
     "data": {
      "text/html": [
       "<div>\n",
       "<style>\n",
       "    .dataframe thead tr:only-child th {\n",
       "        text-align: right;\n",
       "    }\n",
       "\n",
       "    .dataframe thead th {\n",
       "        text-align: left;\n",
       "    }\n",
       "\n",
       "    .dataframe tbody tr th {\n",
       "        vertical-align: top;\n",
       "    }\n",
       "</style>\n",
       "<table border=\"1\" class=\"dataframe\">\n",
       "  <thead>\n",
       "    <tr style=\"text-align: right;\">\n",
       "      <th></th>\n",
       "      <th></th>\n",
       "      <th></th>\n",
       "      <th></th>\n",
       "      <th></th>\n",
       "      <th></th>\n",
       "      <th></th>\n",
       "      <th></th>\n",
       "      <th>label</th>\n",
       "      <th>num_Pass_Fail_Pass w/ Conditions_inspections_365days</th>\n",
       "      <th>num_Fail_inspections_365days</th>\n",
       "      <th>facility_type</th>\n",
       "    </tr>\n",
       "    <tr>\n",
       "      <th>dba_name</th>\n",
       "      <th>address</th>\n",
       "      <th>license_#</th>\n",
       "      <th>facility_type</th>\n",
       "      <th>city</th>\n",
       "      <th>state</th>\n",
       "      <th>zip</th>\n",
       "      <th>date</th>\n",
       "      <th></th>\n",
       "      <th></th>\n",
       "      <th></th>\n",
       "      <th></th>\n",
       "    </tr>\n",
       "  </thead>\n",
       "  <tbody>\n",
       "    <tr>\n",
       "      <th>#1 CHINA EXPRESS, LTD.</th>\n",
       "      <th>4248 S WENTWORTH AVE</th>\n",
       "      <th>1869616</th>\n",
       "      <th>Restaurant</th>\n",
       "      <th>CHICAGO</th>\n",
       "      <th>IL</th>\n",
       "      <th>60609.0</th>\n",
       "      <th>2016-01-01</th>\n",
       "      <td>False</td>\n",
       "      <td>0.0</td>\n",
       "      <td>0.0</td>\n",
       "      <td>Restaurant</td>\n",
       "    </tr>\n",
       "    <tr>\n",
       "      <th rowspan=\"2\" valign=\"top\">#1 CHOP SUEY</th>\n",
       "      <th>1907 W 87TH ST</th>\n",
       "      <th>2042372</th>\n",
       "      <th>Restaurant</th>\n",
       "      <th>CHICAGO</th>\n",
       "      <th>IL</th>\n",
       "      <th>60620.0</th>\n",
       "      <th>2016-01-01</th>\n",
       "      <td>False</td>\n",
       "      <td>1.0</td>\n",
       "      <td>0.0</td>\n",
       "      <td>Restaurant</td>\n",
       "    </tr>\n",
       "    <tr>\n",
       "      <th>4307 W IRVING PARK RD</th>\n",
       "      <th>1970042</th>\n",
       "      <th>Restaurant</th>\n",
       "      <th>CHICAGO</th>\n",
       "      <th>IL</th>\n",
       "      <th>60641.0</th>\n",
       "      <th>2016-01-01</th>\n",
       "      <td>False</td>\n",
       "      <td>4.0</td>\n",
       "      <td>2.0</td>\n",
       "      <td>Restaurant</td>\n",
       "    </tr>\n",
       "    <tr>\n",
       "      <th>#1 CHOP SUEY RESTAURANT</th>\n",
       "      <th>4307 W IRVING PARK RD</th>\n",
       "      <th>1739799</th>\n",
       "      <th>Restaurant</th>\n",
       "      <th>CHICAGO</th>\n",
       "      <th>IL</th>\n",
       "      <th>60641.0</th>\n",
       "      <th>2016-01-01</th>\n",
       "      <td>False</td>\n",
       "      <td>0.0</td>\n",
       "      <td>0.0</td>\n",
       "      <td>Restaurant</td>\n",
       "    </tr>\n",
       "    <tr>\n",
       "      <th>#1 WOK N ROLL</th>\n",
       "      <th>1408 E 53RD ST</th>\n",
       "      <th>58961</th>\n",
       "      <th>Restaurant</th>\n",
       "      <th>CHICAGO</th>\n",
       "      <th>IL</th>\n",
       "      <th>60615.0</th>\n",
       "      <th>2016-01-01</th>\n",
       "      <td>False</td>\n",
       "      <td>0.0</td>\n",
       "      <td>0.0</td>\n",
       "      <td>Restaurant</td>\n",
       "    </tr>\n",
       "  </tbody>\n",
       "</table>\n",
       "</div>"
      ],
      "text/plain": [
       "                                                                                                         label  \\\n",
       "dba_name                address                license_# facility_type city    state zip     date                \n",
       "#1 CHINA EXPRESS, LTD.  4248 S WENTWORTH AVE   1869616   Restaurant    CHICAGO IL    60609.0 2016-01-01  False   \n",
       "#1 CHOP SUEY            1907 W 87TH ST         2042372   Restaurant    CHICAGO IL    60620.0 2016-01-01  False   \n",
       "                        4307 W IRVING PARK RD  1970042   Restaurant    CHICAGO IL    60641.0 2016-01-01  False   \n",
       "#1 CHOP SUEY RESTAURANT 4307 W IRVING PARK RD  1739799   Restaurant    CHICAGO IL    60641.0 2016-01-01  False   \n",
       "#1 WOK N ROLL           1408 E 53RD ST         58961     Restaurant    CHICAGO IL    60615.0 2016-01-01  False   \n",
       "\n",
       "                                                                                                         num_Pass_Fail_Pass w/ Conditions_inspections_365days  \\\n",
       "dba_name                address                license_# facility_type city    state zip     date                                                               \n",
       "#1 CHINA EXPRESS, LTD.  4248 S WENTWORTH AVE   1869616   Restaurant    CHICAGO IL    60609.0 2016-01-01                                                0.0      \n",
       "#1 CHOP SUEY            1907 W 87TH ST         2042372   Restaurant    CHICAGO IL    60620.0 2016-01-01                                                1.0      \n",
       "                        4307 W IRVING PARK RD  1970042   Restaurant    CHICAGO IL    60641.0 2016-01-01                                                4.0      \n",
       "#1 CHOP SUEY RESTAURANT 4307 W IRVING PARK RD  1739799   Restaurant    CHICAGO IL    60641.0 2016-01-01                                                0.0      \n",
       "#1 WOK N ROLL           1408 E 53RD ST         58961     Restaurant    CHICAGO IL    60615.0 2016-01-01                                                0.0      \n",
       "\n",
       "                                                                                                         num_Fail_inspections_365days  \\\n",
       "dba_name                address                license_# facility_type city    state zip     date                                       \n",
       "#1 CHINA EXPRESS, LTD.  4248 S WENTWORTH AVE   1869616   Restaurant    CHICAGO IL    60609.0 2016-01-01                           0.0   \n",
       "#1 CHOP SUEY            1907 W 87TH ST         2042372   Restaurant    CHICAGO IL    60620.0 2016-01-01                           0.0   \n",
       "                        4307 W IRVING PARK RD  1970042   Restaurant    CHICAGO IL    60641.0 2016-01-01                           2.0   \n",
       "#1 CHOP SUEY RESTAURANT 4307 W IRVING PARK RD  1739799   Restaurant    CHICAGO IL    60641.0 2016-01-01                           0.0   \n",
       "#1 WOK N ROLL           1408 E 53RD ST         58961     Restaurant    CHICAGO IL    60615.0 2016-01-01                           0.0   \n",
       "\n",
       "                                                                                                        facility_type  \n",
       "dba_name                address                license_# facility_type city    state zip     date                      \n",
       "#1 CHINA EXPRESS, LTD.  4248 S WENTWORTH AVE   1869616   Restaurant    CHICAGO IL    60609.0 2016-01-01    Restaurant  \n",
       "#1 CHOP SUEY            1907 W 87TH ST         2042372   Restaurant    CHICAGO IL    60620.0 2016-01-01    Restaurant  \n",
       "                        4307 W IRVING PARK RD  1970042   Restaurant    CHICAGO IL    60641.0 2016-01-01    Restaurant  \n",
       "#1 CHOP SUEY RESTAURANT 4307 W IRVING PARK RD  1739799   Restaurant    CHICAGO IL    60641.0 2016-01-01    Restaurant  \n",
       "#1 WOK N ROLL           1408 E 53RD ST         58961     Restaurant    CHICAGO IL    60615.0 2016-01-01    Restaurant  "
      ]
     },
     "execution_count": 242,
     "metadata": {},
     "output_type": "execute_result"
    }
   ],
   "source": [
    "m.head()"
   ]
  },
  {
   "cell_type": "markdown",
   "metadata": {},
   "source": [
    "Much better!"
   ]
  },
  {
   "cell_type": "markdown",
   "metadata": {},
   "source": [
    "### Dummification\n",
    "Most algorithms (and definitely those in `scikit-learn`) can't handle categorical variables unless they're encoded in 'one-hot' format."
   ]
  },
  {
   "cell_type": "code",
   "execution_count": 243,
   "metadata": {
    "collapsed": false
   },
   "outputs": [],
   "source": [
    "# Pandas to the rescue\n",
    "m = pd.get_dummies(m) # by the way, this even has a dummy_na=True option"
   ]
  },
  {
   "cell_type": "code",
   "execution_count": 244,
   "metadata": {
    "collapsed": false
   },
   "outputs": [
    {
     "data": {
      "text/html": [
       "<div>\n",
       "<style>\n",
       "    .dataframe thead tr:only-child th {\n",
       "        text-align: right;\n",
       "    }\n",
       "\n",
       "    .dataframe thead th {\n",
       "        text-align: left;\n",
       "    }\n",
       "\n",
       "    .dataframe tbody tr th {\n",
       "        vertical-align: top;\n",
       "    }\n",
       "</style>\n",
       "<table border=\"1\" class=\"dataframe\">\n",
       "  <thead>\n",
       "    <tr style=\"text-align: right;\">\n",
       "      <th></th>\n",
       "      <th></th>\n",
       "      <th></th>\n",
       "      <th></th>\n",
       "      <th></th>\n",
       "      <th></th>\n",
       "      <th></th>\n",
       "      <th></th>\n",
       "      <th>label</th>\n",
       "      <th>num_Pass_Fail_Pass w/ Conditions_inspections_365days</th>\n",
       "      <th>num_Fail_inspections_365days</th>\n",
       "      <th>facility_type_Bakery</th>\n",
       "      <th>facility_type_Mobile Food Preparer</th>\n",
       "      <th>facility_type_Restaurant</th>\n",
       "    </tr>\n",
       "    <tr>\n",
       "      <th>dba_name</th>\n",
       "      <th>address</th>\n",
       "      <th>license_#</th>\n",
       "      <th>facility_type</th>\n",
       "      <th>city</th>\n",
       "      <th>state</th>\n",
       "      <th>zip</th>\n",
       "      <th>date</th>\n",
       "      <th></th>\n",
       "      <th></th>\n",
       "      <th></th>\n",
       "      <th></th>\n",
       "      <th></th>\n",
       "      <th></th>\n",
       "    </tr>\n",
       "  </thead>\n",
       "  <tbody>\n",
       "    <tr>\n",
       "      <th>#1 CHINA EXPRESS, LTD.</th>\n",
       "      <th>4248 S WENTWORTH AVE</th>\n",
       "      <th>1869616</th>\n",
       "      <th>Restaurant</th>\n",
       "      <th>CHICAGO</th>\n",
       "      <th>IL</th>\n",
       "      <th>60609.0</th>\n",
       "      <th>2016-01-01</th>\n",
       "      <td>False</td>\n",
       "      <td>0.0</td>\n",
       "      <td>0.0</td>\n",
       "      <td>0</td>\n",
       "      <td>0</td>\n",
       "      <td>1</td>\n",
       "    </tr>\n",
       "    <tr>\n",
       "      <th rowspan=\"2\" valign=\"top\">#1 CHOP SUEY</th>\n",
       "      <th>1907 W 87TH ST</th>\n",
       "      <th>2042372</th>\n",
       "      <th>Restaurant</th>\n",
       "      <th>CHICAGO</th>\n",
       "      <th>IL</th>\n",
       "      <th>60620.0</th>\n",
       "      <th>2016-01-01</th>\n",
       "      <td>False</td>\n",
       "      <td>1.0</td>\n",
       "      <td>0.0</td>\n",
       "      <td>0</td>\n",
       "      <td>0</td>\n",
       "      <td>1</td>\n",
       "    </tr>\n",
       "    <tr>\n",
       "      <th>4307 W IRVING PARK RD</th>\n",
       "      <th>1970042</th>\n",
       "      <th>Restaurant</th>\n",
       "      <th>CHICAGO</th>\n",
       "      <th>IL</th>\n",
       "      <th>60641.0</th>\n",
       "      <th>2016-01-01</th>\n",
       "      <td>False</td>\n",
       "      <td>4.0</td>\n",
       "      <td>2.0</td>\n",
       "      <td>0</td>\n",
       "      <td>0</td>\n",
       "      <td>1</td>\n",
       "    </tr>\n",
       "    <tr>\n",
       "      <th>#1 CHOP SUEY RESTAURANT</th>\n",
       "      <th>4307 W IRVING PARK RD</th>\n",
       "      <th>1739799</th>\n",
       "      <th>Restaurant</th>\n",
       "      <th>CHICAGO</th>\n",
       "      <th>IL</th>\n",
       "      <th>60641.0</th>\n",
       "      <th>2016-01-01</th>\n",
       "      <td>False</td>\n",
       "      <td>0.0</td>\n",
       "      <td>0.0</td>\n",
       "      <td>0</td>\n",
       "      <td>0</td>\n",
       "      <td>1</td>\n",
       "    </tr>\n",
       "    <tr>\n",
       "      <th>#1 WOK N ROLL</th>\n",
       "      <th>1408 E 53RD ST</th>\n",
       "      <th>58961</th>\n",
       "      <th>Restaurant</th>\n",
       "      <th>CHICAGO</th>\n",
       "      <th>IL</th>\n",
       "      <th>60615.0</th>\n",
       "      <th>2016-01-01</th>\n",
       "      <td>False</td>\n",
       "      <td>0.0</td>\n",
       "      <td>0.0</td>\n",
       "      <td>0</td>\n",
       "      <td>0</td>\n",
       "      <td>1</td>\n",
       "    </tr>\n",
       "  </tbody>\n",
       "</table>\n",
       "</div>"
      ],
      "text/plain": [
       "                                                                                                         label  \\\n",
       "dba_name                address                license_# facility_type city    state zip     date                \n",
       "#1 CHINA EXPRESS, LTD.  4248 S WENTWORTH AVE   1869616   Restaurant    CHICAGO IL    60609.0 2016-01-01  False   \n",
       "#1 CHOP SUEY            1907 W 87TH ST         2042372   Restaurant    CHICAGO IL    60620.0 2016-01-01  False   \n",
       "                        4307 W IRVING PARK RD  1970042   Restaurant    CHICAGO IL    60641.0 2016-01-01  False   \n",
       "#1 CHOP SUEY RESTAURANT 4307 W IRVING PARK RD  1739799   Restaurant    CHICAGO IL    60641.0 2016-01-01  False   \n",
       "#1 WOK N ROLL           1408 E 53RD ST         58961     Restaurant    CHICAGO IL    60615.0 2016-01-01  False   \n",
       "\n",
       "                                                                                                         num_Pass_Fail_Pass w/ Conditions_inspections_365days  \\\n",
       "dba_name                address                license_# facility_type city    state zip     date                                                               \n",
       "#1 CHINA EXPRESS, LTD.  4248 S WENTWORTH AVE   1869616   Restaurant    CHICAGO IL    60609.0 2016-01-01                                                0.0      \n",
       "#1 CHOP SUEY            1907 W 87TH ST         2042372   Restaurant    CHICAGO IL    60620.0 2016-01-01                                                1.0      \n",
       "                        4307 W IRVING PARK RD  1970042   Restaurant    CHICAGO IL    60641.0 2016-01-01                                                4.0      \n",
       "#1 CHOP SUEY RESTAURANT 4307 W IRVING PARK RD  1739799   Restaurant    CHICAGO IL    60641.0 2016-01-01                                                0.0      \n",
       "#1 WOK N ROLL           1408 E 53RD ST         58961     Restaurant    CHICAGO IL    60615.0 2016-01-01                                                0.0      \n",
       "\n",
       "                                                                                                         num_Fail_inspections_365days  \\\n",
       "dba_name                address                license_# facility_type city    state zip     date                                       \n",
       "#1 CHINA EXPRESS, LTD.  4248 S WENTWORTH AVE   1869616   Restaurant    CHICAGO IL    60609.0 2016-01-01                           0.0   \n",
       "#1 CHOP SUEY            1907 W 87TH ST         2042372   Restaurant    CHICAGO IL    60620.0 2016-01-01                           0.0   \n",
       "                        4307 W IRVING PARK RD  1970042   Restaurant    CHICAGO IL    60641.0 2016-01-01                           2.0   \n",
       "#1 CHOP SUEY RESTAURANT 4307 W IRVING PARK RD  1739799   Restaurant    CHICAGO IL    60641.0 2016-01-01                           0.0   \n",
       "#1 WOK N ROLL           1408 E 53RD ST         58961     Restaurant    CHICAGO IL    60615.0 2016-01-01                           0.0   \n",
       "\n",
       "                                                                                                         facility_type_Bakery  \\\n",
       "dba_name                address                license_# facility_type city    state zip     date                               \n",
       "#1 CHINA EXPRESS, LTD.  4248 S WENTWORTH AVE   1869616   Restaurant    CHICAGO IL    60609.0 2016-01-01                     0   \n",
       "#1 CHOP SUEY            1907 W 87TH ST         2042372   Restaurant    CHICAGO IL    60620.0 2016-01-01                     0   \n",
       "                        4307 W IRVING PARK RD  1970042   Restaurant    CHICAGO IL    60641.0 2016-01-01                     0   \n",
       "#1 CHOP SUEY RESTAURANT 4307 W IRVING PARK RD  1739799   Restaurant    CHICAGO IL    60641.0 2016-01-01                     0   \n",
       "#1 WOK N ROLL           1408 E 53RD ST         58961     Restaurant    CHICAGO IL    60615.0 2016-01-01                     0   \n",
       "\n",
       "                                                                                                         facility_type_Mobile Food Preparer  \\\n",
       "dba_name                address                license_# facility_type city    state zip     date                                             \n",
       "#1 CHINA EXPRESS, LTD.  4248 S WENTWORTH AVE   1869616   Restaurant    CHICAGO IL    60609.0 2016-01-01                                   0   \n",
       "#1 CHOP SUEY            1907 W 87TH ST         2042372   Restaurant    CHICAGO IL    60620.0 2016-01-01                                   0   \n",
       "                        4307 W IRVING PARK RD  1970042   Restaurant    CHICAGO IL    60641.0 2016-01-01                                   0   \n",
       "#1 CHOP SUEY RESTAURANT 4307 W IRVING PARK RD  1739799   Restaurant    CHICAGO IL    60641.0 2016-01-01                                   0   \n",
       "#1 WOK N ROLL           1408 E 53RD ST         58961     Restaurant    CHICAGO IL    60615.0 2016-01-01                                   0   \n",
       "\n",
       "                                                                                                         facility_type_Restaurant  \n",
       "dba_name                address                license_# facility_type city    state zip     date                                  \n",
       "#1 CHINA EXPRESS, LTD.  4248 S WENTWORTH AVE   1869616   Restaurant    CHICAGO IL    60609.0 2016-01-01                         1  \n",
       "#1 CHOP SUEY            1907 W 87TH ST         2042372   Restaurant    CHICAGO IL    60620.0 2016-01-01                         1  \n",
       "                        4307 W IRVING PARK RD  1970042   Restaurant    CHICAGO IL    60641.0 2016-01-01                         1  \n",
       "#1 CHOP SUEY RESTAURANT 4307 W IRVING PARK RD  1739799   Restaurant    CHICAGO IL    60641.0 2016-01-01                         1  \n",
       "#1 WOK N ROLL           1408 E 53RD ST         58961     Restaurant    CHICAGO IL    60615.0 2016-01-01                         1  "
      ]
     },
     "execution_count": 244,
     "metadata": {},
     "output_type": "execute_result"
    }
   ],
   "source": [
    "m.head()"
   ]
  },
  {
   "cell_type": "markdown",
   "metadata": {},
   "source": [
    "## Fitting a Model\n",
    "\n",
    "`scikit-learn` aka `sklearn` is a pretty large library with a lot of functionality. It includes a bunch of pipeline tools, too. We won't use any of that today! Instead, we'll use its very convenient, out-of-the-box implementations of a number of popular ML algorithms.\n",
    "\n",
    "Up front:\n",
    "`sklearn` is great for:\n",
    "- easy-to-use RandomForests, Bagging, Boosting - you name it\n",
    "- cross-validation and cross-validation metrics\n",
    "- providing a standardized interface to many different algorithms\n",
    "\n",
    "`sklearn` is not your tool of choice for:\n",
    "- Statistical inference. Try `statsmodels` for R-style generalized linear models and inference on those (or use straight R, which is still nicer). Try `scipy.stats` for a lot of distributions and tests.\n",
    "- Bayesian inference. Try `PyMC3`.\n",
    "- Deep Learning. Try `tensorflow`."
   ]
  },
  {
   "cell_type": "code",
   "execution_count": 245,
   "metadata": {
    "collapsed": false
   },
   "outputs": [],
   "source": [
    "# sklearn only cares about the values of our matrix, \n",
    "# and ignores the indices. You can hand it numpy arrays, if you like. \n",
    "y = m.label.astype(float)\n",
    "X = m.drop('label', 1)"
   ]
  },
  {
   "cell_type": "code",
   "execution_count": 246,
   "metadata": {
    "collapsed": false
   },
   "outputs": [
    {
     "data": {
      "text/plain": [
       "RandomForestClassifier(bootstrap=True, class_weight=None, criterion='gini',\n",
       "            max_depth=None, max_features='auto', max_leaf_nodes=None,\n",
       "            min_impurity_split=1e-07, min_samples_leaf=1,\n",
       "            min_samples_split=2, min_weight_fraction_leaf=0.0,\n",
       "            n_estimators=100, n_jobs=1, oob_score=False, random_state=4321,\n",
       "            verbose=0, warm_start=False)"
      ]
     },
     "execution_count": 246,
     "metadata": {},
     "output_type": "execute_result"
    }
   ],
   "source": [
    "# our all-time favorite model in sklearn\n",
    "# first, instantiate with hyperparameters - use defaults, mostly\n",
    "estimator = RandomForestClassifier(n_estimators=100,\n",
    "                       criterion='gini',\n",
    "                       max_depth=None,\n",
    "                       random_state=4321) # always set your random seed for reproducibility!\n",
    "estimator.fit(X=X, y=y)"
   ]
  },
  {
   "cell_type": "markdown",
   "metadata": {},
   "source": [
    "Great... now what?!"
   ]
  },
  {
   "cell_type": "markdown",
   "metadata": {},
   "source": [
    "## Evaluating a Model\n",
    "\n",
    "Quick primer, courtesy of Avishek and Jane:\n",
    "\n",
    "It's not enough to just build the model; we're going to need a way to know whether or not it's working. Convincing others of the quality of results is often the *most challenging* part of an analysis.  Making repeatable, well-documented work with clear success metrics makes all the difference.\n",
    "\n",
    "To convince ourselves - and others - that our modeling results will generalize, we need to hold\n",
    "some data back (not using it to train the model), then apply our model to that hold-out set and \"blindly\" predict, comparing the model's predictions to what we actually observed. This is called **cross-validation**, and it's the best way we have to estimate how a model will perform on *entirely* novel data. We call the data used to build the model the **training set**, and the rest the **test set**.\n",
    "\n",
    "In general, we'd like our training set to be as large as possible, to give our model more information. However, you also want to be as confident as possible that your model will be applicable to new data, or else the model is useless. In practice, you'll have to balance these two objectives in a reasonable way.  \n",
    "\n",
    "There are also many ways to split up your data into training and testing sets. Since you're trying to evaluate how your model will perform *in practice*, it's best to emulate the true use case of your model as closely as possible when you decide how to evaluate it. A good [tutorial on cross-validation](http://scikit-learn.org/stable/modules/cross_validation.html) can be found on the `scikit-learn` site.\n",
    "\n",
    "One simple and commonly used method is ***k-fold* cross-validation**, which entails splitting up our dataset into *k* groups, holding out one group while training a model on the rest of the data, evaluating model performance on the held-out \"fold,\" and repeating this process *k* times (we'll get back to this in the text-analysis tutorial). Another method is **temporal cross-validation**, which involves building a model using all the data up until a given point in time, and then testing the model on observations that happened after that point. Our problem [...] is a problem in time where we are trying to predcit an event in the future. Generally, if you use the future to predict the past there will be temporal effects that will help the accuracy of your predictions. We cannot use the future to predict the past in real life, so it is important to use `temporal cross-validation` and create our training and test sets accordingly. \n",
    "\n",
    " \n"
   ]
  },
  {
   "cell_type": "markdown",
   "metadata": {},
   "source": [
    "### Coincidentally, we're pretty well set-up for temporal cross-validation..."
   ]
  },
  {
   "cell_type": "markdown",
   "metadata": {},
   "source": [
    "Let's do one 'split'.\n",
    "\n",
    "For the training data:\n",
    "- all inspections for training _labels_ occured **before** the split\n",
    "- all inspections (and any other data) for training _features_ occured **before** the split **and** before the training labels\n",
    "- all inspections for _testing_ labels occured **after** the split\n",
    "- all inspections (and any other data) for testing _features_ occured **after** the split and **after** the testing labels\n",
    "\n",
    "(Note that the second condition of the second point isn't actually required. We need to emulate how the system would be used in practice - so you can only learn on past data, and you can only use past data to make predictions. But what you do with your past data to get to predictions, nobody cares!)"
   ]
  },
  {
   "cell_type": "code",
   "execution_count": 247,
   "metadata": {
    "collapsed": false
   },
   "outputs": [],
   "source": [
    "def generate_split(all_businesses, inspections_df, date, label_timedelta):\n",
    "    ''' This is for either the training OR the testing split. The magic will happen when\n",
    "        we plug in the right dates!\n",
    "    '''\n",
    "    \n",
    "    # get the labels\n",
    "    labels = generate_labels(all_businesses, inspections_df,\n",
    "                             date=date, label_timedelta=label_timedelta)    \n",
    "\n",
    "    # get the features (yes, this could be made shorter!)\n",
    "    features1 = feature_inspections(inspections_df, date=date,\n",
    "                                    aggregation_timedelta=pd.Timedelta('365D'),\n",
    "                                    results_list=['Pass', 'Fail','Pass w/ Conditions'])\n",
    "    \n",
    "    features2 = feature_inspections(inspections_df, date=date,\n",
    "                                    aggregation_timedelta=pd.Timedelta('365D'),\n",
    "                                    results_list=['Fail'])\n",
    "    \n",
    "    features3 = feature_facility_type(all_businesses, date=date)\n",
    "    \n",
    "    m = labels\n",
    "    for f in [features1, features2, features3]:\n",
    "        m = m.merge(f, how='left', left_index=True, right_index=True)\n",
    "        \n",
    "    return m"
   ]
  },
  {
   "cell_type": "code",
   "execution_count": 248,
   "metadata": {
    "collapsed": true
   },
   "outputs": [],
   "source": [
    "def prepare_matrix(m):\n",
    "    ''' just copy-pasted from above '''\n",
    "    m['facility_type'] = m.facility_type.fillna('missing')\n",
    "    m = m.fillna(0)\n",
    "    m = pd.get_dummies(m)\n",
    "    return m"
   ]
  },
  {
   "cell_type": "code",
   "execution_count": 249,
   "metadata": {
    "collapsed": true
   },
   "outputs": [],
   "source": [
    "def split_data(all_businesses, inspections_df,\n",
    "               split_date, training_label_timedelta, testing_label_timedelta):\n",
    "        \n",
    "    # get a timestamp\n",
    "    split_date = pd.to_datetime(split_date)\n",
    "    \n",
    "    # the training labels come from between split_date-training_label_interval and training_label_interval;\n",
    "    # the training features from before split_date-training_label_interval\n",
    "    m_train = generate_split(all_businesses, inspections_df,\n",
    "                             date=split_date-training_label_timedelta,\n",
    "                             label_timedelta=training_label_timedelta)\n",
    "    \n",
    "    # the testing labels come from between split_date and split_date+testing_label_timedelta;\n",
    "    # the testing features come from before split_date\n",
    "    m_test = generate_split(all_businesses, inspections_df,\n",
    "                             date=split_date,\n",
    "                             label_timedelta=testing_label_timedelta)\n",
    "    \n",
    "    return prepare_matrix(m_train), prepare_matrix(m_test)"
   ]
  },
  {
   "cell_type": "code",
   "execution_count": 250,
   "metadata": {
    "collapsed": false
   },
   "outputs": [
    {
     "name": "stdout",
     "output_type": "stream",
     "text": [
      "First used inspection on 2016-01-04 00:00:00\n",
      "Last used inspection on 2016-06-30 00:00:00\n",
      "Earliest inspection used:  2015-01-05 00:00:00\n",
      "Latest inspection used:  2015-12-31 00:00:00\n",
      "Results counts:\n",
      "Pass                  8488\n",
      "Fail                  2559\n",
      "Pass w/ Conditions    1678\n",
      "Earliest inspection used:  2015-01-05 00:00:00\n",
      "Latest inspection used:  2015-12-31 00:00:00\n",
      "Results counts:\n",
      "Fail    2559\n",
      "First used inspection on 2016-07-01 00:00:00\n",
      "Last used inspection on 2016-12-27 00:00:00\n",
      "Earliest inspection used:  2015-07-02 00:00:00\n",
      "Latest inspection used:  2016-06-30 00:00:00\n",
      "Results counts:\n",
      "Pass                  9095\n",
      "Fail                  2893\n",
      "Pass w/ Conditions    1980\n",
      "Earliest inspection used:  2015-07-02 00:00:00\n",
      "Latest inspection used:  2016-06-30 00:00:00\n",
      "Results counts:\n",
      "Fail    2893\n"
     ]
    }
   ],
   "source": [
    "m_train, m_test = split_data(businesses, df, split_date='2016-07-01',\n",
    "                             training_label_timedelta=pd.Timedelta('180D'), \n",
    "                             testing_label_timedelta=pd.Timedelta('180D'))"
   ]
  },
  {
   "cell_type": "markdown",
   "metadata": {},
   "source": [
    "### Now we can train on `train` and test on `test`!"
   ]
  },
  {
   "cell_type": "code",
   "execution_count": 251,
   "metadata": {
    "collapsed": true
   },
   "outputs": [],
   "source": [
    "estimator = RandomForestClassifier(n_estimators=10,\n",
    "                       criterion='gini',\n",
    "                       max_depth=2,\n",
    "                       random_state=4321)"
   ]
  },
  {
   "cell_type": "code",
   "execution_count": 252,
   "metadata": {
    "collapsed": false
   },
   "outputs": [
    {
     "data": {
      "text/plain": [
       "RandomForestClassifier(bootstrap=True, class_weight=None, criterion='gini',\n",
       "            max_depth=2, max_features='auto', max_leaf_nodes=None,\n",
       "            min_impurity_split=1e-07, min_samples_leaf=1,\n",
       "            min_samples_split=2, min_weight_fraction_leaf=0.0,\n",
       "            n_estimators=10, n_jobs=1, oob_score=False, random_state=4321,\n",
       "            verbose=0, warm_start=False)"
      ]
     },
     "execution_count": 252,
     "metadata": {},
     "output_type": "execute_result"
    }
   ],
   "source": [
    "estimator.fit(X=m_train.drop('label',1), y=m_train.label.astype(float))"
   ]
  },
  {
   "cell_type": "code",
   "execution_count": 253,
   "metadata": {
    "collapsed": true
   },
   "outputs": [],
   "source": [
    "pred = estimator.predict_proba(X=m_test.drop('label',1)) # not all classifiers have predict_proba"
   ]
  },
  {
   "cell_type": "code",
   "execution_count": 254,
   "metadata": {
    "collapsed": false
   },
   "outputs": [
    {
     "data": {
      "text/plain": [
       "array([[ 0.96961682,  0.03038318],\n",
       "       [ 0.87510507,  0.12489493],\n",
       "       [ 0.80944385,  0.19055615],\n",
       "       ..., \n",
       "       [ 0.96961682,  0.03038318],\n",
       "       [ 0.96961682,  0.03038318],\n",
       "       [ 0.96961682,  0.03038318]])"
      ]
     },
     "execution_count": 254,
     "metadata": {},
     "output_type": "execute_result"
    }
   ],
   "source": [
    "pred # the right column is class probability for positive (failed inspection)"
   ]
  },
  {
   "cell_type": "code",
   "execution_count": 255,
   "metadata": {
    "collapsed": false
   },
   "outputs": [],
   "source": [
    "pred = pd.Series(index=m_test.index, data=pred[:,1])"
   ]
  },
  {
   "cell_type": "code",
   "execution_count": 258,
   "metadata": {
    "collapsed": false
   },
   "outputs": [
    {
     "data": {
      "text/plain": [
       "0.65017872379411767"
      ]
     },
     "execution_count": 258,
     "metadata": {},
     "output_type": "execute_result"
    }
   ],
   "source": [
    "sklearn.metrics.roc_auc_score(m_test.label, pred)"
   ]
  },
  {
   "cell_type": "markdown",
   "metadata": {},
   "source": [
    "That's pretty crap! But we're not here today to build good models."
   ]
  }
 ],
 "metadata": {
  "kernelspec": {
   "display_name": "Python 3",
   "language": "python",
   "name": "python3"
  },
  "language_info": {
   "codemirror_mode": {
    "name": "ipython",
    "version": 3
   },
   "file_extension": ".py",
   "mimetype": "text/x-python",
   "name": "python",
   "nbconvert_exporter": "python",
   "pygments_lexer": "ipython3",
   "version": "3.5.2"
  }
 },
 "nbformat": 4,
 "nbformat_minor": 1
}
